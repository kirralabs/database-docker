{
 "cells": [
  {
   "cell_type": "markdown",
   "metadata": {
    "collapsed": true
   },
   "source": [
    "# Postgresql"
   ]
  },
  {
   "cell_type": "code",
   "execution_count": 219,
   "metadata": {},
   "outputs": [],
   "source": [
    "import psycopg2\n",
    "import uuid\n",
    "import time\n",
    "def openDB():\n",
    "    try:\n",
    "        conn = psycopg2.connect(database='postgres', user = \"postgres\", password = \"mysecretpassword\", host = \"127.0.0.1\", port = \"5432\")\n",
    "        print (\"Opened database successfully\")\n",
    "        return conn\n",
    "    except (Exception, psycopg2.DatabaseError) as error:\n",
    "        print(error)\n",
    "        print(\"Error! Open database.\")\n",
    "\n",
    "    return None"
   ]
  },
  {
   "cell_type": "code",
   "execution_count": 220,
   "metadata": {},
   "outputs": [],
   "source": [
    "def closeDB(conn):\n",
    "    try:\n",
    "        conn.close()\n",
    "        print (\"Closed database successfully\")\n",
    "    except:\n",
    "        print(\"Error! Close database.\")"
   ]
  },
  {
   "cell_type": "code",
   "execution_count": 221,
   "metadata": {},
   "outputs": [
    {
     "name": "stdout",
     "output_type": "stream",
     "text": [
      "Opened database successfully\n",
      "Drop table, successful!\n",
      "Closed database successfully\n"
     ]
    }
   ],
   "source": [
    "def dropTable(conn):\n",
    "    cur = conn.cursor()\n",
    "    try:\n",
    "        cur.execute(\"DROP TABLE IF EXISTS news\")\n",
    "        # commit the changes to the database\n",
    "        conn.commit()\n",
    "        # close communication with the database\n",
    "        cur.close()\n",
    "        print(\"Drop table, successful!\")\n",
    "        return True\n",
    "    except (Exception, psycopg2.DatabaseError) as error:\n",
    "        print(error)\n",
    "        print(\"Error! cannot drop the table.\")\n",
    "        return False\n",
    "\n",
    "conn = openDB()\n",
    "dropTable(conn)\n",
    "closeDB(conn)"
   ]
  },
  {
   "cell_type": "code",
   "execution_count": 222,
   "metadata": {},
   "outputs": [
    {
     "name": "stdout",
     "output_type": "stream",
     "text": [
      "Opened database successfully\n",
      "Table successful created.\n",
      "Closed database successfully\n"
     ]
    }
   ],
   "source": [
    "conn = openDB()\n",
    "\n",
    "cur = conn.cursor()\n",
    "if conn is not None:\n",
    "    sql_create_entry_table = \"\"\" CREATE TABLE IF NOT EXISTS news (\n",
    "        _id text PRIMARY KEY,\n",
    "        title text NOT NULL,\n",
    "        datatext text NOT NULL,\n",
    "        source text NOT NULL,\n",
    "        created_at timestamp  NOT NULL  DEFAULT current_timestamp,\n",
    "        not_deleted  boolean DEFAULT true,\n",
    "        deleted_at   timestamp\n",
    "        ); \"\"\"\n",
    "    cur.execute(sql_create_entry_table)\n",
    "    # close communication with the PostgreSQL database server\n",
    "    cur.close()\n",
    "    # commit the changes\n",
    "    conn.commit()\n",
    "    print(\"Table successful created.\")\n",
    "else:\n",
    "    print(\"Error! cannot create table .\")\n",
    "closeDB(conn)"
   ]
  },
  {
   "cell_type": "code",
   "execution_count": 223,
   "metadata": {},
   "outputs": [
    {
     "name": "stdout",
     "output_type": "stream",
     "text": [
      "Opened database successfully\n",
      "Success insert data.\n",
      "Closed database successfully\n"
     ]
    }
   ],
   "source": [
    "def insertData(conn, ids, title, desc, source):\n",
    "    cur = conn.cursor()\n",
    "    sql2 = \"\"\"INSERT INTO news  (\n",
    "                                _id,\n",
    "                                title, \n",
    "                                datatext, \n",
    "                                source\n",
    "                                ) VALUES (%s, %s, %s, %s)  ON CONFLICT DO NOTHING\"\"\"\n",
    "    task = (ids, title, desc, source)\n",
    "    vendor_id = None\n",
    "    try:\n",
    "        cur.execute(sql2, task)\n",
    "        # get the generated id back\n",
    "        #vendor_id = cur.fetchone()[0]\n",
    "        # commit the changes to the database\n",
    "        conn.commit()\n",
    "        # close communication with the database\n",
    "        cur.close()\n",
    "        print(\"Success insert data.\")\n",
    "    except (Exception, psycopg2.DatabaseError) as error:\n",
    "        print(error)\n",
    "        print(\"Error! insert data.\")\n",
    "    return vendor_id\n",
    "\n",
    "conn = openDB()\n",
    "ids = str(uuid.uuid4())+str(time.time())\n",
    "ids\n",
    "insertData(conn, ids, \"title\", \"desc\", \"asal\")\n",
    "closeDB(conn)"
   ]
  },
  {
   "cell_type": "code",
   "execution_count": 224,
   "metadata": {},
   "outputs": [
    {
     "name": "stdout",
     "output_type": "stream",
     "text": [
      "Opened database successfully\n",
      "Successful insert list data.\n",
      "Closed database successfully\n"
     ]
    }
   ],
   "source": [
    "def insertListData(conn, listdata):\n",
    "    \"\"\" insert multiple news into the news table  \"\"\"\n",
    "    sql = \"INSERT INTO news(_id, title, datatext, source) VALUES(%s, %s, %s, %s)\"\n",
    "    try:\n",
    "        # create a new cursor\n",
    "        cur = conn.cursor()\n",
    "        # execute the INSERT statement\n",
    "        cur.executemany(sql,listdata)\n",
    "        # commit the changes to the database\n",
    "        conn.commit()\n",
    "        # close communication with the database\n",
    "        cur.close()\n",
    "        print(\"Successful insert list data.\")\n",
    "    except (Exception, psycopg2.DatabaseError) as error:\n",
    "        print(error)\n",
    "        print(\"Error! insert list data.\")\n",
    "\n",
    "\n",
    "conn = openDB()\n",
    "insertListData(conn, [\n",
    "        (str(uuid.uuid4())+str(time.time()), \"title1\", \"desc1\", \"asal1\"),\n",
    "        (str(uuid.uuid4())+str(time.time()), \"title2\", \"desc2\", \"asal2\"),\n",
    "        (str(uuid.uuid4())+str(time.time()), \"title3\", \"desc3\", \"asal3\"),\n",
    "        (str(uuid.uuid4())+str(time.time()), \"title4\", \"desc4\", \"asal4\"),\n",
    "        (str(uuid.uuid4())+str(time.time()), \"title5\", \"desc5\", \"asal5\")\n",
    "    ])\n",
    "\n",
    "closeDB(conn)"
   ]
  },
  {
   "cell_type": "code",
   "execution_count": 225,
   "metadata": {},
   "outputs": [
    {
     "name": "stdout",
     "output_type": "stream",
     "text": [
      "Opened database successfully\n",
      "Closed database successfully\n"
     ]
    },
    {
     "data": {
      "text/plain": [
       "[('7458371b-aa27-4a0f-8586-83e3b69edef91532509588.99',\n",
       "  'title',\n",
       "  'desc',\n",
       "  'asal',\n",
       "  datetime.datetime(2018, 7, 25, 9, 6, 28, 991151),\n",
       "  True,\n",
       "  None),\n",
       " ('2931cf00-a433-447b-8b63-6223eb45e8db1532509589.01',\n",
       "  'title1',\n",
       "  'desc1',\n",
       "  'asal1',\n",
       "  datetime.datetime(2018, 7, 25, 9, 6, 29, 14605),\n",
       "  True,\n",
       "  None),\n",
       " ('8cd23582-a48e-434c-a64a-0b98902298fa1532509589.01',\n",
       "  'title2',\n",
       "  'desc2',\n",
       "  'asal2',\n",
       "  datetime.datetime(2018, 7, 25, 9, 6, 29, 14605),\n",
       "  True,\n",
       "  None),\n",
       " ('735d7ed8-94bc-497f-97e6-9914d7b505021532509589.01',\n",
       "  'title3',\n",
       "  'desc3',\n",
       "  'asal3',\n",
       "  datetime.datetime(2018, 7, 25, 9, 6, 29, 14605),\n",
       "  True,\n",
       "  None),\n",
       " ('ba93af1a-7911-4139-828e-c5778d57268b1532509589.01',\n",
       "  'title4',\n",
       "  'desc4',\n",
       "  'asal4',\n",
       "  datetime.datetime(2018, 7, 25, 9, 6, 29, 14605),\n",
       "  True,\n",
       "  None),\n",
       " ('d40304d4-89d2-4494-aff8-d8a5727df4251532509589.01',\n",
       "  'title5',\n",
       "  'desc5',\n",
       "  'asal5',\n",
       "  datetime.datetime(2018, 7, 25, 9, 6, 29, 14605),\n",
       "  True,\n",
       "  None)]"
      ]
     },
     "execution_count": 225,
     "metadata": {},
     "output_type": "execute_result"
    }
   ],
   "source": [
    "def getData(conn):\n",
    "    cur = conn.cursor()\n",
    "    sql_entry_select_by_data = \"SELECT * FROM news\"\n",
    "    data = cur.execute(sql_entry_select_by_data)\n",
    "\n",
    "    hasil = []\n",
    "    for row in cur.fetchall():\n",
    "        hasil.append(row)\n",
    "    cur.close()\n",
    "    return hasil\n",
    "conn = openDB()\n",
    "data = getData(conn)\n",
    "closeDB(conn)\n",
    "data"
   ]
  },
  {
   "cell_type": "code",
   "execution_count": 226,
   "metadata": {},
   "outputs": [
    {
     "name": "stdout",
     "output_type": "stream",
     "text": [
      "Opened database successfully\n",
      "Closed database successfully\n"
     ]
    },
    {
     "data": {
      "text/plain": [
       "[]"
      ]
     },
     "execution_count": 226,
     "metadata": {},
     "output_type": "execute_result"
    }
   ],
   "source": [
    "def getDataById(conn, ids):\n",
    "    cur = conn.cursor()\n",
    "    sql_entry_select_by_data = \"SELECT * FROM news WHERE _id ILIKE %s\"\n",
    "    data = cur.execute(sql_entry_select_by_data,(ids,))\n",
    "\n",
    "    hasil = []\n",
    "    for row in cur.fetchall():\n",
    "        hasil.append(row)\n",
    "    cur.close()\n",
    "    return hasil\n",
    "conn = openDB()\n",
    "data = getDataById(conn, 'd198bd14-81ce-4d84-bc8c-c6ee00e895191532508482.41')\n",
    "closeDB(conn)\n",
    "data"
   ]
  },
  {
   "cell_type": "code",
   "execution_count": 227,
   "metadata": {},
   "outputs": [
    {
     "name": "stdout",
     "output_type": "stream",
     "text": [
      "Opened database successfully\n",
      "('7458371b-aa27-4a0f-8586-83e3b69edef91532509588.99', 'title', 'desc', 'asal')\n",
      "Successful update data.\n",
      "('7458371b-aa27-4a0f-8586-83e3b69edef91532509588.99', 'data[0]assdda[1]aku', 'desc', 'asal')\n",
      "Closed database successfully\n"
     ]
    }
   ],
   "source": [
    "def updateData(conn, ids, title, desc, sources):\n",
    "    cur = conn.cursor()\n",
    "    \"\"\" update news name based on the news id \"\"\"\n",
    "    sql = \"\"\" UPDATE news SET title = %s WHERE _id ILIKE %s\"\"\"\n",
    "    updated_rows = 0\n",
    "    try:\n",
    "        # execute the UPDATE  statement\n",
    "        cur.execute(sql, (title, ids))\n",
    "        # get the number of updated rows\n",
    "        updated_rows = cur.rowcount\n",
    "        # commit the changes to the database\n",
    "        conn.commit()\n",
    "        # close communication with the database\n",
    "        cur.close()\n",
    "        \n",
    "        print(\"Successful update data.\")\n",
    "    except (Exception, psycopg2.DatabaseError) as error:\n",
    "        print(error)\n",
    "        print(\"Error! updated data.\")\n",
    " \n",
    "    return ids, updated_rows\n",
    "\n",
    "conn = openDB()\n",
    "\n",
    "data = getData(conn)\n",
    "print(data[0][0],data[0][1],data[0][2],data[0][3])\n",
    "\n",
    "ids, numDataUpdated = updateData(conn,data[0][0],\"data[0]assdda[1]aku\",data[0][2],data[0][3])\n",
    "data = getDataById(conn, ids)\n",
    "print(data[0][0],data[0][1],data[0][2],data[0][3])\n",
    "\n",
    "closeDB(conn)"
   ]
  },
  {
   "cell_type": "code",
   "execution_count": 231,
   "metadata": {},
   "outputs": [
    {
     "name": "stdout",
     "output_type": "stream",
     "text": [
      "Opened database successfully\n",
      "('4c668f59-b445-4c13-b78f-91c6ec5665a41532508482.41', 0)\n",
      "Closed database successfully\n"
     ]
    }
   ],
   "source": [
    "def deleteData(conn, part_id):\n",
    "    \"\"\" delete news by news id \"\"\"\n",
    "    sql = \"DELETE FROM news WHERE _id = %s\"\n",
    "    rows_deleted = 0\n",
    "    try:\n",
    "        # create a new cursor\n",
    "        cur = conn.cursor()\n",
    "        # execute the UPDATE  statement\n",
    "        cur.execute(sql, (part_id,))\n",
    "        # get the number of updated rows\n",
    "        rows_deleted = cur.rowcount\n",
    "        # Commit the changes to the database\n",
    "        conn.commit()\n",
    "        # Close communication with the PostgreSQL database\n",
    "        cur.close()\n",
    "    except (Exception, psycopg2.DatabaseError) as error:\n",
    "        print(error)\n",
    " \n",
    "    return part_id, rows_deleted\n",
    "\n",
    "conn = openDB()\n",
    "\n",
    "ids, numDataUpdated = deleteData(conn,\"4c668f59-b445-4c13-b78f-91c6ec5665a41532508482.41\")\n",
    "print(ids, numDataUpdated)\n",
    "closeDB(conn)"
   ]
  },
  {
   "cell_type": "code",
   "execution_count": null,
   "metadata": {},
   "outputs": [],
   "source": []
  },
  {
   "cell_type": "markdown",
   "metadata": {},
   "source": [
    "# MongoDb"
   ]
  },
  {
   "cell_type": "code",
   "execution_count": 297,
   "metadata": {},
   "outputs": [
    {
     "name": "stdout",
     "output_type": "stream",
     "text": [
      "MongoClient(host=['127.0.0.1:27017'], document_class=dict, tz_aware=False, connect=True)\n"
     ]
    }
   ],
   "source": [
    "from pymongo import MongoClient\n",
    "from bson.objectid import ObjectId\n",
    "import datetime\n",
    "\n",
    "client = MongoClient(\"mongodb://127.0.0.1:27017/\")\n",
    "print(client)"
   ]
  },
  {
   "cell_type": "code",
   "execution_count": 290,
   "metadata": {},
   "outputs": [
    {
     "name": "stdout",
     "output_type": "stream",
     "text": [
      "('data inserted >>> ', ObjectId('5b58471853167b241c0d13b3'), {'updated': datetime.datetime(2018, 7, 25, 9, 47, 4, 985856), '_id': ObjectId('5b58471853167b241c0d13b3'), 'title': 'titleasdsd', 'timestamp': datetime.datetime(2018, 7, 25, 9, 47, 4, 985854), 'source': 'source', 'validated': False, 'desc': 'desc'})\n"
     ]
    }
   ],
   "source": [
    "collection = client['news']['article']\n",
    "\n",
    "def insertDataMongo(collection, title, desc, source):\n",
    "    post = {\n",
    "            \"title\": title,\n",
    "            \"desc\": desc,\n",
    "            \"source\": source,\n",
    "            \"validated\": False,\n",
    "            \"timestamp\": datetime.datetime.utcnow(),\n",
    "            \"updated\": datetime.datetime.utcnow()\n",
    "        }\n",
    "    \n",
    "    try:\n",
    "        key = {'title': title, 'desc': desc, \"source\": source}\n",
    "        onedata = collection.find_one(key)\n",
    "        if onedata:\n",
    "            #collection.replace_one(key, post, upsert=True) #Use replace_one, update_one or update_many instead.\n",
    "            print(\"data not inserted, data exist >>> \", post)\n",
    "        else:\n",
    "            post_id = collection.insert_one(post).inserted_id\n",
    "            print(\"data inserted >>> \", post_id, post)\n",
    "    except:\n",
    "        print(\"data error >> \", x)  # pass\n",
    "        \n",
    "insertDataMongo(collection, \"titleasdsd\", \"desc\", \"source\")"
   ]
  },
  {
   "cell_type": "code",
   "execution_count": 310,
   "metadata": {},
   "outputs": [
    {
     "name": "stdout",
     "output_type": "stream",
     "text": [
      "[ObjectId('5b584c4353167b241c0d13b5'), ObjectId('5b584c4353167b241c0d13b6'), ObjectId('5b584c4353167b241c0d13b7'), ObjectId('5b584c4353167b241c0d13b8'), ObjectId('5b584c4353167b241c0d13b9'), ObjectId('5b584c4353167b241c0d13ba'), ObjectId('5b584c4353167b241c0d13bb'), ObjectId('5b584c4353167b241c0d13bc'), ObjectId('5b584c4353167b241c0d13bd'), ObjectId('5b584c4353167b241c0d13be'), ObjectId('5b584c4353167b241c0d13bf'), ObjectId('5b584c4353167b241c0d13c0'), ObjectId('5b584c4353167b241c0d13c1')]\n"
     ]
    }
   ],
   "source": [
    "def insertListDataMongo(collection, listdata):\n",
    "    try:\n",
    "        x = collection.insert_many(listdata)\n",
    "\n",
    "        #print list of the _id values of the inserted documents:\n",
    "        print(x.inserted_ids)\n",
    "    except:\n",
    "        print(\"data error list inserted\")\n",
    "        \n",
    "mylist = [\n",
    "  { \"title\": \"title1\", \"desc\": \"desc1\", \"source\": \"source1\", \"validated\": False, \"timestamp\": datetime.datetime.utcnow(), \"updated\": datetime.datetime.utcnow()},\n",
    "  { \"title\": \"title2\", \"desc\": \"desc2\", \"source\": \"source2\", \"validated\": False, \"timestamp\": datetime.datetime.utcnow(), \"updated\": datetime.datetime.utcnow()},\n",
    "  { \"title\": \"title3\", \"desc\": \"desc3\", \"source\": \"source3\", \"validated\": False, \"timestamp\": datetime.datetime.utcnow(), \"updated\": datetime.datetime.utcnow()},\n",
    "  { \"title\": \"title4\", \"desc\": \"desc4\", \"source\": \"source4\", \"validated\": False, \"timestamp\": datetime.datetime.utcnow(), \"updated\": datetime.datetime.utcnow()},\n",
    "  { \"title\": \"title5\", \"desc\": \"desc5\", \"source\": \"source5\", \"validated\": False, \"timestamp\": datetime.datetime.utcnow(), \"updated\": datetime.datetime.utcnow()},\n",
    "  { \"title\": \"title6\", \"desc\": \"desc6\", \"source\": \"source6\", \"validated\": False, \"timestamp\": datetime.datetime.utcnow(), \"updated\": datetime.datetime.utcnow()},\n",
    "  { \"title\": \"title7\", \"desc\": \"desc7\", \"source\": \"source7\", \"validated\": False, \"timestamp\": datetime.datetime.utcnow(), \"updated\": datetime.datetime.utcnow()},\n",
    "  { \"title\": \"title8\", \"desc\": \"desc8\", \"source\": \"source8\", \"validated\": False, \"timestamp\": datetime.datetime.utcnow(), \"updated\": datetime.datetime.utcnow()},\n",
    "  { \"title\": \"title9\", \"desc\": \"desc9\", \"source\": \"source9\", \"validated\": False, \"timestamp\": datetime.datetime.utcnow(), \"updated\": datetime.datetime.utcnow()},\n",
    "  { \"title\": \"title10\", \"desc\": \"desc10\", \"source\": \"source10\", \"validated\": False, \"timestamp\": datetime.datetime.utcnow(), \"updated\": datetime.datetime.utcnow()},\n",
    "  { \"title\": \"title11\", \"desc\": \"desc11\", \"source\": \"source11\", \"validated\": False, \"timestamp\": datetime.datetime.utcnow(), \"updated\": datetime.datetime.utcnow()},\n",
    "  { \"title\": \"title12\", \"desc\": \"desc12\", \"source\": \"source12\", \"validated\": False, \"timestamp\": datetime.datetime.utcnow(), \"updated\": datetime.datetime.utcnow()},\n",
    "  { \"title\": \"title13\", \"desc\": \"desc13\", \"source\": \"source13\", \"validated\": False, \"timestamp\": datetime.datetime.utcnow(), \"updated\": datetime.datetime.utcnow()}\n",
    "]\n",
    "insertListDataMongo(collection, mylist)"
   ]
  },
  {
   "cell_type": "code",
   "execution_count": 288,
   "metadata": {},
   "outputs": [
    {
     "name": "stdout",
     "output_type": "stream",
     "text": [
      "('data not updated, data not exist >>> ', {'updated': datetime.datetime(2018, 7, 25, 9, 41, 54, 170118), 'title': 'titldasdasde', 'timestamp': datetime.datetime(2018, 7, 25, 9, 41, 54, 170117), 'source': 'source', 'validated': False, 'desc': 'desc'})\n"
     ]
    }
   ],
   "source": [
    "def updateDataMongo(collection, title, desc, source):\n",
    "    post = {\n",
    "            \"title\": title,\n",
    "            \"desc\": desc,\n",
    "            \"source\": source,\n",
    "            \"validated\": False,\n",
    "            \"timestamp\": datetime.datetime.utcnow(),\n",
    "            \"updated\": datetime.datetime.utcnow()\n",
    "        }\n",
    "    \n",
    "    try:\n",
    "        key = {'title': title, 'desc': desc, \"source\": source}\n",
    "        onedata = collection.find_one(key)\n",
    "        if onedata:\n",
    "            collection.replace_one(key, post, upsert=True) #Use replace_one, update_one or update_many instead.\n",
    "            print(\"data updated >>> \", post)\n",
    "        else:\n",
    "            print(\"data not updated, data not exist >>> \", post)\n",
    "            #post_id = collection.insert_one(post).inserted_id\n",
    "    except:\n",
    "        print(\"data error >> \", x)  # pass\n",
    "        \n",
    "updateDataMongo(collection, \"titldasdasde\", \"desc\", \"source\")"
   ]
  },
  {
   "cell_type": "code",
   "execution_count": 308,
   "metadata": {},
   "outputs": [
    {
     "data": {
      "text/plain": [
       "{u'_id': ObjectId('5b584312501d54c3d1abc43f'),\n",
       " u'desc': False,\n",
       " u'source': u'data',\n",
       " u'timestamp': datetime.datetime(2018, 7, 25, 9, 29, 54, 928000),\n",
       " u'title': u'aku',\n",
       " u'updated': datetime.datetime(2018, 7, 25, 9, 29, 54, 928000),\n",
       " u'validated': False}"
      ]
     },
     "execution_count": 308,
     "metadata": {},
     "output_type": "execute_result"
    }
   ],
   "source": [
    "def getData(collection, ids):\n",
    "    try:\n",
    "        key = {'_id': ObjectId(ids)}\n",
    "        gate = collection.find(key)\n",
    "        onedata = collection.find_one(key)\n",
    "        return onedata\n",
    "    except:\n",
    "        return {}\n",
    "\n",
    "getData(collection, \"5b584312501d54c3d1abc43f\")"
   ]
  },
  {
   "cell_type": "code",
   "execution_count": 317,
   "metadata": {},
   "outputs": [
    {
     "name": "stdout",
     "output_type": "stream",
     "text": [
      "{u'updated': datetime.datetime(2018, 7, 25, 9, 29, 54, 928000), u'validated': False, u'title': u'aku', u'timestamp': datetime.datetime(2018, 7, 25, 9, 29, 54, 928000), u'source': u'data', u'_id': ObjectId('5b584312501d54c3d1abc43f'), u'desc': False}\n",
      "{u'updated': datetime.datetime(2018, 7, 25, 9, 29, 54, 960000), u'validated': False, u'title': u'mau', u'timestamp': datetime.datetime(2018, 7, 25, 9, 29, 54, 960000), u'source': u'data', u'_id': ObjectId('5b584312501d54c3d1abc442'), u'desc': False}\n",
      "{u'updated': datetime.datetime(2018, 7, 25, 9, 29, 54, 962000), u'validated': False, u'title': u'makan', u'timestamp': datetime.datetime(2018, 7, 25, 9, 29, 54, 962000), u'source': u'data', u'_id': ObjectId('5b584312501d54c3d1abc445'), u'desc': False}\n",
      "{u'updated': datetime.datetime(2018, 7, 25, 9, 29, 54, 964000), u'validated': False, u'title': u'nasi', u'timestamp': datetime.datetime(2018, 7, 25, 9, 29, 54, 964000), u'source': u'data', u'_id': ObjectId('5b584312501d54c3d1abc448'), u'desc': False}\n",
      "{u'updated': datetime.datetime(2018, 7, 25, 9, 31, 18, 111000), u'validated': False, u'title': u'aku', u'timestamp': datetime.datetime(2018, 7, 25, 9, 31, 18, 111000), u'source': u'data', u'_id': ObjectId('5b584366501d54c3d1abc49c'), u'desc': False}\n",
      "{u'updated': datetime.datetime(2018, 7, 25, 9, 31, 18, 114000), u'validated': False, u'title': u'mau', u'timestamp': datetime.datetime(2018, 7, 25, 9, 31, 18, 114000), u'source': u'data', u'_id': ObjectId('5b584366501d54c3d1abc49f'), u'desc': False}\n",
      "{u'updated': datetime.datetime(2018, 7, 25, 9, 31, 18, 115000), u'validated': False, u'title': u'makan', u'timestamp': datetime.datetime(2018, 7, 25, 9, 31, 18, 115000), u'source': u'data', u'_id': ObjectId('5b584366501d54c3d1abc4a2'), u'desc': False}\n",
      "{u'updated': datetime.datetime(2018, 7, 25, 9, 31, 18, 116000), u'validated': False, u'title': u'nasi', u'timestamp': datetime.datetime(2018, 7, 25, 9, 31, 18, 116000), u'source': u'data', u'_id': ObjectId('5b584366501d54c3d1abc4a5'), u'desc': False}\n"
     ]
    }
   ],
   "source": [
    "def getDataList(collection, source):\n",
    "    try:\n",
    "        key = {'source': source}\n",
    "        gate = collection.find(key)\n",
    "        onedata = collection.find(key)\n",
    "        return onedata\n",
    "    except:\n",
    "        return {}\n",
    "\n",
    "data = getDataList(collection, \"data\")\n",
    "for x in data:\n",
    "    print x"
   ]
  },
  {
   "cell_type": "code",
   "execution_count": 316,
   "metadata": {},
   "outputs": [
    {
     "name": "stdout",
     "output_type": "stream",
     "text": [
      "{u'updated': datetime.datetime(2018, 7, 25, 9, 29, 54, 928000), u'validated': False, u'title': u'aku', u'timestamp': datetime.datetime(2018, 7, 25, 9, 29, 54, 928000), u'source': u'data', u'_id': ObjectId('5b584312501d54c3d1abc43f'), u'desc': False}\n",
      "{u'updated': datetime.datetime(2018, 7, 25, 9, 29, 54, 960000), u'validated': False, u'title': u'mau', u'timestamp': datetime.datetime(2018, 7, 25, 9, 29, 54, 960000), u'source': u'data', u'_id': ObjectId('5b584312501d54c3d1abc442'), u'desc': False}\n",
      "{u'updated': datetime.datetime(2018, 7, 25, 9, 29, 54, 962000), u'validated': False, u'title': u'makan', u'timestamp': datetime.datetime(2018, 7, 25, 9, 29, 54, 962000), u'source': u'data', u'_id': ObjectId('5b584312501d54c3d1abc445'), u'desc': False}\n",
      "{u'updated': datetime.datetime(2018, 7, 25, 9, 29, 54, 964000), u'validated': False, u'title': u'nasi', u'timestamp': datetime.datetime(2018, 7, 25, 9, 29, 54, 964000), u'source': u'data', u'_id': ObjectId('5b584312501d54c3d1abc448'), u'desc': False}\n",
      "{u'updated': datetime.datetime(2018, 7, 25, 9, 31, 18, 111000), u'validated': False, u'title': u'aku', u'timestamp': datetime.datetime(2018, 7, 25, 9, 31, 18, 111000), u'source': u'data', u'_id': ObjectId('5b584366501d54c3d1abc49c'), u'desc': False}\n",
      "{u'updated': datetime.datetime(2018, 7, 25, 9, 31, 18, 114000), u'validated': False, u'title': u'mau', u'timestamp': datetime.datetime(2018, 7, 25, 9, 31, 18, 114000), u'source': u'data', u'_id': ObjectId('5b584366501d54c3d1abc49f'), u'desc': False}\n",
      "{u'updated': datetime.datetime(2018, 7, 25, 9, 31, 18, 115000), u'validated': False, u'title': u'makan', u'timestamp': datetime.datetime(2018, 7, 25, 9, 31, 18, 115000), u'source': u'data', u'_id': ObjectId('5b584366501d54c3d1abc4a2'), u'desc': False}\n",
      "{u'updated': datetime.datetime(2018, 7, 25, 9, 31, 18, 116000), u'validated': False, u'title': u'nasi', u'timestamp': datetime.datetime(2018, 7, 25, 9, 31, 18, 116000), u'source': u'data', u'_id': ObjectId('5b584366501d54c3d1abc4a5'), u'desc': False}\n",
      "{u'updated': datetime.datetime(2018, 7, 25, 9, 41, 44, 456000), u'validated': False, u'title': u'title', u'timestamp': datetime.datetime(2018, 7, 25, 9, 41, 44, 456000), u'source': u'source', u'_id': ObjectId('5b584438501d54c3d1abc567'), u'desc': u'desc'}\n",
      "{u'updated': datetime.datetime(2018, 7, 25, 9, 35, 26, 113000), u'validated': False, u'title': u'title', u'timestamp': datetime.datetime(2018, 7, 25, 9, 35, 26, 113000), u'source': u'source', u'_id': ObjectId('5b58445e53167b241c0d13b0'), u'desc': u'desc'}\n",
      "{u'updated': datetime.datetime(2018, 7, 25, 9, 35, 28, 969000), u'validated': False, u'title': u'title', u'timestamp': datetime.datetime(2018, 7, 25, 9, 35, 28, 969000), u'source': u'source', u'_id': ObjectId('5b58446053167b241c0d13b1'), u'desc': u'desc'}\n",
      "{u'updated': datetime.datetime(2018, 7, 25, 9, 47, 4, 985000), u'validated': False, u'title': u'titleasdsd', u'timestamp': datetime.datetime(2018, 7, 25, 9, 47, 4, 985000), u'source': u'source', u'_id': ObjectId('5b58471853167b241c0d13b3'), u'desc': u'desc'}\n",
      "{u'updated': datetime.datetime(2018, 7, 25, 10, 9, 7, 717000), u'validated': False, u'title': u'title1', u'timestamp': datetime.datetime(2018, 7, 25, 10, 9, 7, 717000), u'source': u'source1', u'_id': ObjectId('5b584c4353167b241c0d13b5'), u'desc': u'desc1'}\n",
      "{u'updated': datetime.datetime(2018, 7, 25, 10, 9, 7, 717000), u'validated': False, u'title': u'title2', u'timestamp': datetime.datetime(2018, 7, 25, 10, 9, 7, 717000), u'source': u'source2', u'_id': ObjectId('5b584c4353167b241c0d13b6'), u'desc': u'desc2'}\n",
      "{u'updated': datetime.datetime(2018, 7, 25, 10, 9, 7, 717000), u'validated': False, u'title': u'title3', u'timestamp': datetime.datetime(2018, 7, 25, 10, 9, 7, 717000), u'source': u'source3', u'_id': ObjectId('5b584c4353167b241c0d13b7'), u'desc': u'desc3'}\n",
      "{u'updated': datetime.datetime(2018, 7, 25, 10, 9, 7, 717000), u'validated': False, u'title': u'title4', u'timestamp': datetime.datetime(2018, 7, 25, 10, 9, 7, 717000), u'source': u'source4', u'_id': ObjectId('5b584c4353167b241c0d13b8'), u'desc': u'desc4'}\n",
      "{u'updated': datetime.datetime(2018, 7, 25, 10, 9, 7, 717000), u'validated': False, u'title': u'title5', u'timestamp': datetime.datetime(2018, 7, 25, 10, 9, 7, 717000), u'source': u'source5', u'_id': ObjectId('5b584c4353167b241c0d13b9'), u'desc': u'desc5'}\n",
      "{u'updated': datetime.datetime(2018, 7, 25, 10, 9, 7, 717000), u'validated': False, u'title': u'title6', u'timestamp': datetime.datetime(2018, 7, 25, 10, 9, 7, 717000), u'source': u'source6', u'_id': ObjectId('5b584c4353167b241c0d13ba'), u'desc': u'desc6'}\n",
      "{u'updated': datetime.datetime(2018, 7, 25, 10, 9, 7, 717000), u'validated': False, u'title': u'title7', u'timestamp': datetime.datetime(2018, 7, 25, 10, 9, 7, 717000), u'source': u'source7', u'_id': ObjectId('5b584c4353167b241c0d13bb'), u'desc': u'desc7'}\n",
      "{u'updated': datetime.datetime(2018, 7, 25, 10, 9, 7, 717000), u'validated': False, u'title': u'title8', u'timestamp': datetime.datetime(2018, 7, 25, 10, 9, 7, 717000), u'source': u'source8', u'_id': ObjectId('5b584c4353167b241c0d13bc'), u'desc': u'desc8'}\n",
      "{u'updated': datetime.datetime(2018, 7, 25, 10, 9, 7, 717000), u'validated': False, u'title': u'title9', u'timestamp': datetime.datetime(2018, 7, 25, 10, 9, 7, 717000), u'source': u'source9', u'_id': ObjectId('5b584c4353167b241c0d13bd'), u'desc': u'desc9'}\n",
      "{u'updated': datetime.datetime(2018, 7, 25, 10, 9, 7, 717000), u'validated': False, u'title': u'title10', u'timestamp': datetime.datetime(2018, 7, 25, 10, 9, 7, 717000), u'source': u'source10', u'_id': ObjectId('5b584c4353167b241c0d13be'), u'desc': u'desc10'}\n",
      "{u'updated': datetime.datetime(2018, 7, 25, 10, 9, 7, 717000), u'validated': False, u'title': u'title11', u'timestamp': datetime.datetime(2018, 7, 25, 10, 9, 7, 717000), u'source': u'source11', u'_id': ObjectId('5b584c4353167b241c0d13bf'), u'desc': u'desc11'}\n",
      "{u'updated': datetime.datetime(2018, 7, 25, 10, 9, 7, 717000), u'validated': False, u'title': u'title12', u'timestamp': datetime.datetime(2018, 7, 25, 10, 9, 7, 717000), u'source': u'source12', u'_id': ObjectId('5b584c4353167b241c0d13c0'), u'desc': u'desc12'}\n",
      "{u'updated': datetime.datetime(2018, 7, 25, 10, 9, 7, 717000), u'validated': False, u'title': u'title13', u'timestamp': datetime.datetime(2018, 7, 25, 10, 9, 7, 717000), u'source': u'source13', u'_id': ObjectId('5b584c4353167b241c0d13c1'), u'desc': u'desc13'}\n"
     ]
    }
   ],
   "source": [
    "def getDataAllList(collection):\n",
    "    try:\n",
    "        onedata = collection.find()\n",
    "        return onedata\n",
    "    except:\n",
    "        return {}\n",
    "\n",
    "data = getDataAllList(collection)\n",
    "for x in data:\n",
    "    print x"
   ]
  },
  {
   "cell_type": "code",
   "execution_count": 318,
   "metadata": {},
   "outputs": [],
   "source": [
    "def deleteData(collection, ids):\n",
    "    myquery = { \"_id\": ObjectId(ids) }\n",
    "\n",
    "    x = collection.delete_one(myquery)\n",
    "    print(x.deleted_count, \" documents deleted.\")\n"
   ]
  },
  {
   "cell_type": "code",
   "execution_count": 319,
   "metadata": {},
   "outputs": [],
   "source": [
    "def deleteManyData(collection, key, value):\n",
    "    myquery = { key: value }\n",
    "\n",
    "    x = collection.delete_one(myquery)\n",
    "    print(x.deleted_count, \" documents deleted.\")"
   ]
  },
  {
   "cell_type": "code",
   "execution_count": 322,
   "metadata": {},
   "outputs": [
    {
     "name": "stdout",
     "output_type": "stream",
     "text": [
      "(25, ' documents deleted.')\n"
     ]
    }
   ],
   "source": [
    "def deleteAllData(collection):\n",
    "    x = collection.delete_many({})\n",
    "\n",
    "    print(x.deleted_count, \" documents deleted.\")\n",
    "deleteAllData(collection)"
   ]
  },
  {
   "cell_type": "code",
   "execution_count": null,
   "metadata": {},
   "outputs": [],
   "source": []
  },
  {
   "cell_type": "markdown",
   "metadata": {},
   "source": [
    "# Sqlite"
   ]
  },
  {
   "cell_type": "code",
   "execution_count": 51,
   "metadata": {},
   "outputs": [],
   "source": [
    "import sqlite3\n",
    "import uuid\n",
    "import time\n",
    "DB_NAME = \"newsCorpus.db\"\n",
    "DB_VERSION = 1\n",
    "\n",
    "def openSqliteDB():\n",
    "    try:\n",
    "        conn = sqlite3.connect(DB_NAME)\n",
    "#         conn = sqlite3.connect(':memory:')\n",
    "        print (\"Opened database successfully\")\n",
    "        return conn\n",
    "    except sqlite3.Error as e:\n",
    "        print(e)\n",
    "        print(\"Error! Open database.\")\n",
    "        return None"
   ]
  },
  {
   "cell_type": "code",
   "execution_count": 52,
   "metadata": {},
   "outputs": [],
   "source": [
    "def closeSqliteDB(conn):\n",
    "    try:\n",
    "        conn.close()\n",
    "        print (\"Closed database successfully\")\n",
    "    except:\n",
    "        print(\"Error! Close database.\")"
   ]
  },
  {
   "cell_type": "code",
   "execution_count": 53,
   "metadata": {},
   "outputs": [
    {
     "name": "stdout",
     "output_type": "stream",
     "text": [
      "Opened database successfully\n",
      "Drop table, successful!\n",
      "Closed database successfully\n"
     ]
    }
   ],
   "source": [
    "def dropSqliteTable(conn):\n",
    "    try:\n",
    "        cur = conn.cursor()\n",
    "        cur.execute('''DROP TABLE IF EXISTS news''')\n",
    "        # commit the changes to the database\n",
    "        conn.commit()\n",
    "        # close communication with the database\n",
    "        cur.close()\n",
    "        print(\"Drop table, successful!\")\n",
    "        return True\n",
    "    except (Exception, sqlite3.Error) as error:\n",
    "        print(error)\n",
    "        print(\"Error! cannot drop the table.\")\n",
    "        return False\n",
    "\n",
    "conn = openSqliteDB()\n",
    "dropSqliteTable(conn)\n",
    "closeSqliteDB(conn)"
   ]
  },
  {
   "cell_type": "code",
   "execution_count": 54,
   "metadata": {},
   "outputs": [
    {
     "name": "stdout",
     "output_type": "stream",
     "text": [
      "Opened database successfully\n",
      "Table successful created.\n",
      "Closed database successfully\n"
     ]
    }
   ],
   "source": [
    "def createSqliteTable(conn):\n",
    "    sql = ''' CREATE TABLE IF NOT EXISTS news (\n",
    "        _id text PRIMARY KEY,\n",
    "        title text NOT NULL,\n",
    "        datatext text NOT NULL,\n",
    "        source text NOT NULL,\n",
    "        created_at timestamp  NOT NULL  DEFAULT current_timestamp,\n",
    "        not_deleted  boolean DEFAULT true,\n",
    "        deleted_at   timestamp\n",
    "        ); '''\n",
    "    try:\n",
    "        cur = conn.cursor()\n",
    "        cur.execute(sql)\n",
    "        # commit the changes\n",
    "        conn.commit()\n",
    "        # close communication with the PostgreSQL database server\n",
    "        cur.close()\n",
    "        print(\"Table successful created.\")\n",
    "    except (Exception, sqlite3.Error) as error:\n",
    "        print(\"Error! cannot create table :\"+error)\n",
    "\n",
    "conn = openSqliteDB()\n",
    "createSqliteTable(conn)\n",
    "closeSqliteDB(conn)"
   ]
  },
  {
   "cell_type": "code",
   "execution_count": 60,
   "metadata": {},
   "outputs": [
    {
     "name": "stdout",
     "output_type": "stream",
     "text": [
      "Opened database successfully\n",
      "Success insert data.\n",
      "Closed database successfully\n"
     ]
    }
   ],
   "source": [
    "def insertSqliteData(conn, ids, title, desc, source ):\n",
    "    cur = conn.cursor()\n",
    "    sql2 = \"\"\"INSERT INTO {tn}  (\n",
    "                                {cid},\n",
    "                                {ct}, \n",
    "                                {cdt}, \n",
    "                                {cs}\n",
    "                                ) VALUES (?, ?, ?, ?)\"\"\"\n",
    "    task = (ids, title, desc, source)\n",
    "    vendor_id = None\n",
    "    try:\n",
    "        hasil = cur.execute(sql2.format(tn=\"news\", cid=\"_id\", ct=\"title\", cdt=\"datatext\", cs=\"source\"), task)\n",
    "        # commit the changes to the database\n",
    "        conn.commit()\n",
    "        # close communication with the database\n",
    "        cur.close()\n",
    "        print(\"Success insert data.\")\n",
    "    except (Exception, sqlite3.Error) as error:\n",
    "        print(error)\n",
    "        print(\"Error! insert data.\")\n",
    "    return vendor_id\n",
    "\n",
    "conn = openSqliteDB()\n",
    "ids = str(uuid.uuid4())+str(time.time())\n",
    "ids\n",
    "insertSqliteData(conn, ids, \"title\", \"desc\", \"asal\")\n",
    "closeSqliteDB(conn)"
   ]
  },
  {
   "cell_type": "code",
   "execution_count": 61,
   "metadata": {},
   "outputs": [
    {
     "name": "stdout",
     "output_type": "stream",
     "text": [
      "Opened database successfully\n",
      "Successful insert list data.\n",
      "Closed database successfully\n"
     ]
    }
   ],
   "source": [
    "def insertSqliteListData(conn, listdata):\n",
    "    \"\"\" insert multiple news into the news table  \"\"\"\n",
    "    sql = \"INSERT INTO news(_id, title, datatext, source) VALUES(?, ?, ?, ?)\"\n",
    "    try:\n",
    "        # create a new cursor\n",
    "        cur = conn.cursor()\n",
    "        # execute the INSERT statement\n",
    "        cur.executemany(sql,listdata)\n",
    "        # commit the changes to the database\n",
    "        conn.commit()\n",
    "        # close communication with the database\n",
    "        cur.close()\n",
    "        print(\"Successful insert list data.\")\n",
    "    except (Exception, sqlite3.Error) as error:\n",
    "        print(error)\n",
    "        print(\"Error! insert list data.\")\n",
    "\n",
    "\n",
    "conn = openSqliteDB()\n",
    "insertSqliteListData(conn, [\n",
    "        (str(uuid.uuid4())+str(time.time()), \"title1\", \"desc1\", \"asal1\"),\n",
    "        (str(uuid.uuid4())+str(time.time()), \"title2\", \"desc2\", \"asal2\"),\n",
    "        (str(uuid.uuid4())+str(time.time()), \"title3\", \"desc3\", \"asal3\"),\n",
    "        (str(uuid.uuid4())+str(time.time()), \"title4\", \"desc4\", \"asal4\"),\n",
    "        (str(uuid.uuid4())+str(time.time()), \"title5\", \"desc5\", \"asal5\")\n",
    "    ])\n",
    "\n",
    "closeSqliteDB(conn)"
   ]
  },
  {
   "cell_type": "code",
   "execution_count": 63,
   "metadata": {},
   "outputs": [
    {
     "name": "stdout",
     "output_type": "stream",
     "text": [
      "Opened database successfully\n",
      "Closed database successfully\n"
     ]
    },
    {
     "data": {
      "text/plain": [
       "[(u'ee825cfc-ce06-4228-8cf2-1484727087611532569676.14',\n",
       "  u'title',\n",
       "  u'desc',\n",
       "  u'asal',\n",
       "  u'2018-07-26 01:47:56',\n",
       "  u'true',\n",
       "  None),\n",
       " (u'766e996f-656e-4ae3-92bd-4fabd24841901532569708.5',\n",
       "  u'title',\n",
       "  u'desc',\n",
       "  u'asal',\n",
       "  u'2018-07-26 01:48:28',\n",
       "  u'true',\n",
       "  None),\n",
       " (u'0ba65020-a9d8-4d05-9621-463828928b6e1532569712.59',\n",
       "  u'title',\n",
       "  u'desc',\n",
       "  u'asal',\n",
       "  u'2018-07-26 01:48:32',\n",
       "  u'true',\n",
       "  None),\n",
       " (u'd4664e71-5d51-4830-8466-d5701ea259af1532569731.65',\n",
       "  u'title',\n",
       "  u'desc',\n",
       "  u'asal',\n",
       "  u'2018-07-26 01:48:51',\n",
       "  u'true',\n",
       "  None),\n",
       " (u'c863ce25-92be-4e52-b1f5-76eb9f9012b81532569736.48',\n",
       "  u'title',\n",
       "  u'desc',\n",
       "  u'asal',\n",
       "  u'2018-07-26 01:48:56',\n",
       "  u'true',\n",
       "  None),\n",
       " (u'f028a42b-937d-46e4-897e-fa79e7c885411532569804.81',\n",
       "  u'title',\n",
       "  u'desc',\n",
       "  u'asal',\n",
       "  u'2018-07-26 01:50:04',\n",
       "  u'true',\n",
       "  None),\n",
       " (u'11953d08-85c9-4d2b-ad27-a28b6ad49a191532570041.37',\n",
       "  u'title1',\n",
       "  u'desc1',\n",
       "  u'asal1',\n",
       "  u'2018-07-26 01:54:01',\n",
       "  u'true',\n",
       "  None),\n",
       " (u'63adf535-e61f-4aa3-87c0-6c5837fc5c311532570041.37',\n",
       "  u'title2',\n",
       "  u'desc2',\n",
       "  u'asal2',\n",
       "  u'2018-07-26 01:54:01',\n",
       "  u'true',\n",
       "  None),\n",
       " (u'281b07a1-3732-4de8-853b-15c3666be0b81532570041.37',\n",
       "  u'title3',\n",
       "  u'desc3',\n",
       "  u'asal3',\n",
       "  u'2018-07-26 01:54:01',\n",
       "  u'true',\n",
       "  None),\n",
       " (u'1788c451-ce1e-426d-b734-92b5c9140e611532570041.37',\n",
       "  u'title4',\n",
       "  u'desc4',\n",
       "  u'asal4',\n",
       "  u'2018-07-26 01:54:01',\n",
       "  u'true',\n",
       "  None),\n",
       " (u'76d1166a-93d3-4386-ba2b-737831fe0e511532570041.37',\n",
       "  u'title5',\n",
       "  u'desc5',\n",
       "  u'asal5',\n",
       "  u'2018-07-26 01:54:01',\n",
       "  u'true',\n",
       "  None)]"
      ]
     },
     "execution_count": 63,
     "metadata": {},
     "output_type": "execute_result"
    }
   ],
   "source": [
    "def getSqliteData(conn):\n",
    "    cur = conn.cursor()\n",
    "    sql_entry_select_by_data = \"SELECT * FROM news\"\n",
    "    data = cur.execute(sql_entry_select_by_data)\n",
    "\n",
    "    hasil = []\n",
    "    for row in cur.fetchall():\n",
    "        hasil.append(row)\n",
    "    cur.close()\n",
    "    return hasil\n",
    "\n",
    "conn = openSqliteDB()\n",
    "data = getSqliteData(conn)\n",
    "closeSqliteDB(conn)\n",
    "data"
   ]
  },
  {
   "cell_type": "code",
   "execution_count": 67,
   "metadata": {},
   "outputs": [
    {
     "name": "stdout",
     "output_type": "stream",
     "text": [
      "Opened database successfully\n",
      "Closed database successfully\n"
     ]
    },
    {
     "data": {
      "text/plain": [
       "[(u'76d1166a-93d3-4386-ba2b-737831fe0e511532570041.37',\n",
       "  u'data[0]assdda[1]aku',\n",
       "  u'desc5',\n",
       "  u'asal5',\n",
       "  u'2018-07-26 01:54:01',\n",
       "  u'true',\n",
       "  None)]"
      ]
     },
     "execution_count": 67,
     "metadata": {},
     "output_type": "execute_result"
    }
   ],
   "source": [
    "def getSqliteDataById(conn, ids):\n",
    "    cur = conn.cursor()\n",
    "    sql_entry_select_by_data = \"SELECT * FROM news WHERE _id = ?\"\n",
    "    data = cur.execute(sql_entry_select_by_data,(ids,))\n",
    "\n",
    "    hasil = []\n",
    "    for row in cur.fetchall():\n",
    "        hasil.append(row)\n",
    "    cur.close()\n",
    "    return hasil\n",
    "conn = openSqliteDB()\n",
    "data = getSqliteDataById(conn, '76d1166a-93d3-4386-ba2b-737831fe0e511532570041.37')\n",
    "closeSqliteDB(conn)\n",
    "data"
   ]
  },
  {
   "cell_type": "code",
   "execution_count": 66,
   "metadata": {},
   "outputs": [
    {
     "name": "stdout",
     "output_type": "stream",
     "text": [
      "Opened database successfully\n",
      "(u'76d1166a-93d3-4386-ba2b-737831fe0e511532570041.37', u'title5', u'desc5', u'asal5')\n",
      "Successful update data.\n",
      "(u'76d1166a-93d3-4386-ba2b-737831fe0e511532570041.37', u'data[0]assdda[1]aku', u'desc5', u'asal5')\n",
      "Closed database successfully\n"
     ]
    }
   ],
   "source": [
    "def updateSqliteData(conn, ids, title, desc, sources):\n",
    "    cur = conn.cursor()\n",
    "    \"\"\" update news name based on the news id \"\"\"\n",
    "    sql = \"\"\" UPDATE news SET title = ?, datatext = ?, source = ? WHERE _id = ?\"\"\"\n",
    "    updated_rows = 0\n",
    "    try:\n",
    "        # execute the UPDATE  statement\n",
    "        cur.execute(sql, (title, desc, sources, ids))\n",
    "        # get the number of updated rows\n",
    "        updated_rows = cur.rowcount\n",
    "        # commit the changes to the database\n",
    "        conn.commit()\n",
    "        # close communication with the database\n",
    "        cur.close()\n",
    "        \n",
    "        print(\"Successful update data.\")\n",
    "    except (Exception, sqlite3.Error) as error:\n",
    "        print(error)\n",
    "        print(\"Error! updated data.\")\n",
    " \n",
    "    return ids, updated_rows\n",
    "\n",
    "conn = openSqliteDB()\n",
    "\n",
    "data = getSqliteDataById(conn, '76d1166a-93d3-4386-ba2b-737831fe0e511532570041.37')\n",
    "print(data[0][0],data[0][1],data[0][2],data[0][3])\n",
    "\n",
    "ids, numDataUpdated = updateSqliteData(conn,data[0][0],\"data[0]assdda[1]aku\",data[0][2],data[0][3])\n",
    "data = getSqliteDataById(conn, '76d1166a-93d3-4386-ba2b-737831fe0e511532570041.37')\n",
    "print(data[0][0],data[0][1],data[0][2],data[0][3])\n",
    "\n",
    "closeSqliteDB(conn)"
   ]
  },
  {
   "cell_type": "code",
   "execution_count": 73,
   "metadata": {},
   "outputs": [
    {
     "name": "stdout",
     "output_type": "stream",
     "text": [
      "Opened database successfully\n",
      "Successful deleted 63adf535-e61f-4aa3-87c0-6c5837fc5c311532570041.37 data.\n",
      "('63adf535-e61f-4aa3-87c0-6c5837fc5c311532570041.37', 0)\n",
      "[]\n",
      "Closed database successfully\n"
     ]
    }
   ],
   "source": [
    "def deleteData(conn, part_id):\n",
    "    \"\"\" delete news by news id \"\"\"\n",
    "    sql = \"DELETE FROM news WHERE _id = ?\"\n",
    "    rows_deleted = 0\n",
    "    try:\n",
    "        # create a new cursor\n",
    "        cur = conn.cursor()\n",
    "        # execute the UPDATE  statement\n",
    "        cur.execute(sql, (part_id,))\n",
    "        # get the number of updated rows\n",
    "        rows_deleted = cur.rowcount\n",
    "        # Commit the changes to the database\n",
    "        conn.commit()\n",
    "        # Close communication with the PostgreSQL database\n",
    "        cur.close()\n",
    "        print(\"Successful deleted \"+part_id+\" data.\")\n",
    "    except (Exception, sqlite3.Error) as error:\n",
    "        print(error)\n",
    "        print(\"Error! deleted \"+part_id+\" data.\")\n",
    " \n",
    "    return part_id, rows_deleted\n",
    "\n",
    "conn = openSqliteDB()\n",
    "\n",
    "ids, numDataUpdated = deleteData(conn,\"63adf535-e61f-4aa3-87c0-6c5837fc5c311532570041.37\")\n",
    "print(ids, numDataUpdated)\n",
    "data = getSqliteDataById(conn, '63adf535-e61f-4aa3-87c0-6c5837fc5c311532570041.37')\n",
    "print(data)\n",
    "closeSqliteDB(conn)"
   ]
  },
  {
   "cell_type": "code",
   "execution_count": null,
   "metadata": {},
   "outputs": [],
   "source": []
  },
  {
   "cell_type": "markdown",
   "metadata": {},
   "source": [
    "# Sql Alchemy (for SQL Database)"
   ]
  },
  {
   "cell_type": "code",
   "execution_count": 52,
   "metadata": {},
   "outputs": [],
   "source": [
    "# http://docs.sqlalchemy.org/en/latest/core/engines.html\n",
    "from sqlalchemy import exc, and_, create_engine, MetaData, event, Column, Table, Integer, String, ForeignKey, DateTime, Text\n",
    "from sqlalchemy.sql import func\n",
    "from sqlalchemy.engine import Engine\n",
    "import logging, uuid, time\n",
    "\n",
    "SQLITE_DB_NAME = 'sqlite:///corpus.db'\n",
    "\n",
    "PG_USER = \"postgres\"\n",
    "PG_PASS = \"mysecretpassword\"\n",
    "PG_HOST = \"127.0.0.1\"\n",
    "PG_PORT = \"5432\"\n",
    "PG_DB = \"postgres\"\n",
    "\n",
    "# https://www.compose.com/articles/using-postgresql-through-sqlalchemy/\n",
    "# https://suhas.org/sqlalchemy-tutorial/\n",
    "POSTGRESQL_DB_NAME = 'postgresql://{}:{}@{}:{}/{}'\n",
    "POSTGRESQL_DB_NAME = POSTGRESQL_DB_NAME.format(PG_USER, PG_PASS, PG_HOST, PG_PORT, PG_DB)\n",
    "\n",
    "# https://stackoverflow.com/questions/9447629/mongokit-vs-mongoengine-vs-flask-mongoalchemy-for-flask\n",
    "# https://pythonhosted.org/Flask-MongoAlchemy/\n",
    "\n",
    "\n",
    "\n",
    "DB_USED = POSTGRESQL_DB_NAME #SQLITE_DB_NAME"
   ]
  },
  {
   "cell_type": "markdown",
   "metadata": {},
   "source": [
    "### Sql Alchemy"
   ]
  },
  {
   "cell_type": "code",
   "execution_count": 39,
   "metadata": {},
   "outputs": [],
   "source": [
    "# @event.listens_for(Engine, \"connect\")\n",
    "# def set_sqlite_pragma(dbapi_connection, connection_record):\n",
    "#     cursor = dbapi_connection.cursor()\n",
    "#     cursor.execute(\"PRAGMA foreign_keys=ON\")\n",
    "#     cursor.close()"
   ]
  },
  {
   "cell_type": "code",
   "execution_count": 40,
   "metadata": {},
   "outputs": [],
   "source": [
    "#https://www.pythoncentral.io/introductory-tutorial-python-sqlalchemy/\n",
    "\n",
    "from sqlalchemy.ext.declarative import declarative_base\n",
    "from sqlalchemy.orm import relationship\n",
    "\n",
    "\n",
    "Base = declarative_base()\n",
    " \n",
    "class News(Base):\n",
    "    __tablename__ = 'news2'\n",
    "    # Here we define columns for the table person\n",
    "    # Notice that each column is also a normal Python instance attribute.\n",
    "    _id = Column(String(64), primary_key=True, nullable=False)\n",
    "    title = Column(Text, nullable=False)\n",
    "    datatext = Column(Text, nullable=False)\n",
    "    source = Column(String(64), nullable=False)\n",
    "    aktif = Column(Integer, nullable=False, default=1)\n",
    "    created_at = Column(DateTime(timezone=True), default=func.now())\n",
    "    update_at = Column(DateTime(timezone=True), onupdate=func.now(), default=func.now())\n",
    "    \n",
    "engine = create_engine(DB_USED)\n",
    "Base.metadata.create_all(engine)"
   ]
  },
  {
   "cell_type": "code",
   "execution_count": 41,
   "metadata": {},
   "outputs": [],
   "source": [
    "from sqlalchemy import create_engine\n",
    "from sqlalchemy.orm import sessionmaker\n",
    "\n",
    "engine = create_engine(DB_USED)\n",
    "# Bind the engine to the metadata of the Base class so that the\n",
    "# declaratives can be accessed through a DBSession instance\n",
    "Base.metadata.bind = engine\n",
    " \n",
    "DBSession = sessionmaker(bind=engine)\n",
    "# A DBSession() instance establishes all conversations with the database\n",
    "# and represents a \"staging zone\" for all the objects loaded into the\n",
    "# database session object. Any change made against the objects in the\n",
    "# session won't be persisted into the database until you call\n",
    "# session.commit(). If you're not happy about the changes, you can\n",
    "# revert all of them back to the last commit by calling\n",
    "# session.rollback()\n",
    "session = DBSession()"
   ]
  },
  {
   "cell_type": "code",
   "execution_count": 42,
   "metadata": {},
   "outputs": [],
   "source": [
    "# Insert a Person in the person table\n",
    "new_news = News(_id=str(uuid.uuid4())+str(time.time()), title=\"title\", datatext=\"text\", source=\"source\")\n",
    "session.add(new_news)\n",
    "session.commit()"
   ]
  },
  {
   "cell_type": "code",
   "execution_count": 46,
   "metadata": {},
   "outputs": [
    {
     "name": "stdout",
     "output_type": "stream",
     "text": [
      "(u'4bd32563-36d6-445d-983d-a2a9406d2d491532576627.51', u'title', u'text', u'source')\n",
      "(u'86716db2-1750-49e0-a626-53e913fdd9b21532576632.03', u'title', u'text', u'source')\n",
      "(u'5e8be8c7-9872-4a05-a535-414801e26f1d1532576671.19', u'title12', u'text', u'source')\n"
     ]
    }
   ],
   "source": [
    "news = session.query(News).all()\n",
    "news\n",
    "for x in news:\n",
    "    n = x._id #news.title\n",
    "    print (x._id, x.title, x.datatext, x.source)"
   ]
  },
  {
   "cell_type": "code",
   "execution_count": 47,
   "metadata": {},
   "outputs": [],
   "source": [
    "news = session.query(News).filter(News._id == \"96fc17b7-3de2-40e1-bf23-2cbea40262a21532572572.03\").all()\n",
    "news\n",
    "for x in news:\n",
    "    n = x.title #news.title\n",
    "    print (n)"
   ]
  },
  {
   "cell_type": "code",
   "execution_count": 48,
   "metadata": {},
   "outputs": [
    {
     "data": {
      "text/plain": [
       "1"
      ]
     },
     "execution_count": 48,
     "metadata": {},
     "output_type": "execute_result"
    }
   ],
   "source": [
    "session.query(News).filter_by(_id=u\"5e8be8c7-9872-4a05-a535-414801e26f1d1532576671.19\").update({\"title\": u\"title12\"})"
   ]
  },
  {
   "cell_type": "code",
   "execution_count": 49,
   "metadata": {},
   "outputs": [
    {
     "data": {
      "text/plain": [
       "0"
      ]
     },
     "execution_count": 49,
     "metadata": {},
     "output_type": "execute_result"
    }
   ],
   "source": [
    "news = session.query(News).filter_by(_id=u\"96fc17b7-3de2-40e1-bf23-2cbea40262a21532572572.03\").delete()\n",
    "news"
   ]
  },
  {
   "cell_type": "code",
   "execution_count": null,
   "metadata": {},
   "outputs": [],
   "source": []
  },
  {
   "cell_type": "code",
   "execution_count": null,
   "metadata": {},
   "outputs": [],
   "source": []
  },
  {
   "cell_type": "markdown",
   "metadata": {},
   "source": [
    "# ElasticSearch"
   ]
  },
  {
   "cell_type": "code",
   "execution_count": 98,
   "metadata": {},
   "outputs": [
    {
     "name": "stdout",
     "output_type": "stream",
     "text": [
      "Sip! Elastic Server Connect\n"
     ]
    }
   ],
   "source": [
    "# run elastic server (better run with docker for learning) \n",
    "# docker run -d -p 9200:9200 -p 9300:9300 -e \"discovery.type=single-node\" elasticsearch\n",
    "# Open Chrome extension:  Elastic - \"Head\" \n",
    "# https://chrome.google.com/webstore/detail/elasticsearch-head/ffmkiejjmecolpfloofpjologoblkegm\n",
    "\n",
    "# https://elasticsearch-py.readthedocs.io/en/master/\n",
    "# https://towardsdatascience.com/getting-started-with-elasticsearch-in-python-c3598e718380\n",
    "from elasticsearch import Elasticsearch\n",
    "server, port, timeout = '10.226.174.30', 9200, 30\n",
    "try:\n",
    "    conEs = Elasticsearch([{'host':server,'port':port,'timeout':timeout}])\n",
    "    if conEs.ping():\n",
    "        print('Sip! Elastic Server Connect')\n",
    "    else:\n",
    "        print('Error, not connect to ElasticSearch. please check your server, ip, and port')\n",
    "except:\n",
    "    print('Appications error')"
   ]
  },
  {
   "cell_type": "code",
   "execution_count": 99,
   "metadata": {},
   "outputs": [],
   "source": [
    "# Create index (~table in RDBMS) in Elastic\n",
    "index_name=\"twitter\"\n",
    "docType=\"tweets\" # Warning!, \"doc_type\" removed in next version\n",
    "nShards = 2\n",
    "nReplicas = 0\n",
    "# https://www.elastic.co/guide/en/elasticsearch/reference/current/index-modules-similarity.html\n",
    "similarity=\"BM25\""
   ]
  },
  {
   "cell_type": "code",
   "execution_count": 74,
   "metadata": {},
   "outputs": [
    {
     "name": "stdout",
     "output_type": "stream",
     "text": [
      "Done!\n",
      "Index created\n"
     ]
    }
   ],
   "source": [
    "# Create setting index\n",
    "dSetting={\n",
    "        \"settings\":{\n",
    "            \"index\":{\n",
    "                \"number_of_shards\":nShards,\n",
    "                \"number_of_replicas\":nReplicas\n",
    "            }\n",
    "        },\n",
    "        \"analysis\":{\n",
    "            \"analyzer\":{\n",
    "                \"english\":{\n",
    "                    \"filter\":[\"lowercase\",\"indonesian_stop\",\"indonesian_stemmer\"]\n",
    "                }\n",
    "            }\n",
    "        }\n",
    "}\n",
    "\n",
    "ttestsettings = {\n",
    "        \"settings\": {\n",
    "            \"number_of_shards\": 1,\n",
    "            \"number_of_replicas\": 0\n",
    "        },\n",
    "        \"mappings\": {\n",
    "            \"members\": {\n",
    "                \"dynamic\": \"strict\",\n",
    "                \"properties\": {\n",
    "                    \"title\": {\n",
    "                        \"type\": \"text\"\n",
    "                    },\n",
    "                    \"submitter\": {\n",
    "                        \"type\": \"text\"\n",
    "                    },\n",
    "                    \"description\": {\n",
    "                        \"type\": \"text\"\n",
    "                    },\n",
    "                    \"calories\": {\n",
    "                        \"type\": \"integer\"\n",
    "                    },\n",
    "                }\n",
    "            }\n",
    "        }\n",
    "    }\n",
    "# Yes!, ElasticSearch support Bahasa Indonesia\n",
    "# https://www.elastic.co/guide/en/elasticsearch/reference/current/analysis-lang-analyzer.html\n",
    "print('Done!')"
   ]
  },
  {
   "cell_type": "code",
   "execution_count": 75,
   "metadata": {},
   "outputs": [],
   "source": [
    "# Oleh karena itu, \"best practice\"-nya tetap kita membutuhkan \"mapping setting\"\n",
    "# Mapping setting bisa dilakukan ke sebagian field, lalu sisanya automatic by default\n",
    "mapping={docType:{\n",
    "    \"properties\":{\n",
    "        \"full_text\":{\n",
    "            \"type\":\"text\",\n",
    "            \"store\":True,\n",
    "            \"term_vector\":\"yes\",\n",
    "            \"similarity\":\"BM25\"\n",
    "        },\n",
    "        \"created_at\":{\n",
    "            \"type\": \"date\", \n",
    "            \"store\":True, \n",
    "            \"format\": \"EEE MMM dd HH:mm:ss Z YYYY\"\n",
    "        },\n",
    "        \"screen_name\":{\n",
    "            \"type\":\"text\"\n",
    "        }\n",
    "    }}}\n",
    "# Perhatikan saya set \"term_vector\" di definisi mapping indexnya, \n",
    "# kita mulai masuk ke inti penggunaan elastic di Text Mining dengan \"term_vector\".\n",
    "# term_vector bukan default, jadi harus secara eksplisit dinyatakan dalam mapping index-nya"
   ]
  },
  {
   "cell_type": "code",
   "execution_count": 78,
   "metadata": {},
   "outputs": [
    {
     "name": "stdout",
     "output_type": "stream",
     "text": [
      "Index created\n"
     ]
    }
   ],
   "source": [
    "try:\n",
    "    # create new index in Elastic\n",
    "  # # conEs.indices.delete(index=index_name,ignore=[400, 404]) # Deleted index if exist\n",
    "    # Ignore 400 means to ignore \"Index Already Exist\" error.\n",
    "    conEs.indices.create(index=index_name,body=dSetting,ignore=400) # create  the index\n",
    "    conEs.indices.put_mapping(index=idx,doc_type=docType,body=mapping)\n",
    "    # refresh elastic head in chrome extentions\n",
    "    print('Index created')\n",
    "except Exception as ex:\n",
    "    print(str(ex))\n",
    "    print('Error! Index not created')"
   ]
  },
  {
   "cell_type": "code",
   "execution_count": null,
   "metadata": {},
   "outputs": [],
   "source": [
    "Slide Type\n",
    "\n",
    "# Bentuk tweet = Json. Contoh tweet pertama:\n",
    "Tweets[0]\n",
    "{'contributors': None,\n",
    " 'coordinates': None,\n",
    " 'created_at': 'Thu Jul 26 04:56:14 +0000 2018',\n",
    " 'display_text_range': [11, 64],\n",
    " 'entities': {'hashtags': [],\n",
    "  'symbols': [],\n",
    "  'urls': [],\n",
    "  'user_mentions': [{'id': 2264244858,\n",
    "    'id_str': '2264244858',\n",
    "    'indices': [0, 10],\n",
    "    'name': 'ajiq',\n",
    "    'screen_name': 'aziqz9513'}]},\n",
    " 'favorite_count': 0,\n",
    " 'favorited': False,\n",
    " 'full_text': '@aziqz9513 Tu ah aku jadi model tuk surgery tuk jadi hensem hmmm',\n",
    " 'geo': None,\n",
    " 'id': 1022344821162237957,\n",
    " 'id_str': '1022344821162237957',\n",
    " 'in_reply_to_screen_name': 'aziqz9513',\n",
    " 'in_reply_to_status_id': 1022343422676357120,\n",
    " 'in_reply_to_status_id_str': '1022343422676357120',\n",
    " 'in_reply_to_user_id': 2264244858,\n",
    " 'in_reply_to_user_id_str': '2264244858',\n",
    " 'is_quote_status': False,\n",
    " 'lang': 'in',\n",
    " 'metadata': {'iso_language_code': 'in', 'result_type': 'recent'},\n",
    " 'place': None,\n",
    " 'retweet_count': 0,\n",
    " 'retweeted': False,\n",
    " 'source': '<a href=\"http://twitter.com/download/android\" rel=\"nofollow\">Twitter for Android</a>',\n",
    " 'truncated': False,\n",
    " 'user': {'contributors_enabled': False,\n",
    "  'created_at': 'Mon Apr 01 17:07:34 +0000 2013',\n",
    "  'default_profile': False,\n",
    "  'default_profile_image': False,\n",
    "  'description': 'Hari hari makan minum',\n",
    "  'entities': {'description': {'urls': []}},\n",
    "  'favourites_count': 4274,\n",
    "  'follow_request_sent': False,\n",
    "  'followers_count': 263,\n",
    "  'following': False,\n",
    "  'friends_count': 307,\n",
    "  'geo_enabled': False,\n",
    "  'has_extended_profile': True,\n",
    "  'id': 1320763153,\n",
    "  'id_str': '1320763153',\n",
    "  'is_translation_enabled': False,\n",
    "  'is_translator': False,\n",
    "  'lang': 'en',\n",
    "  'listed_count': 1,\n",
    "  'location': '',\n",
    "  'name': 'Sudin aklakam',\n",
    "  'notifications': False,\n",
    "  'profile_background_color': 'C0DEED',\n",
    "  'profile_background_image_url': 'http://abs.twimg.com/images/themes/theme1/bg.png',\n",
    "  'profile_background_image_url_https': 'https://abs.twimg.com/images/themes/theme1/bg.png',\n",
    "  'profile_background_tile': False,\n",
    "  'profile_banner_url': 'https://pbs.twimg.com/profile_banners/1320763153/1508955695',\n",
    "  'profile_image_url': 'http://pbs.twimg.com/profile_images/1008695387975180288/zHoTPbEE_normal.jpg',\n",
    "  'profile_image_url_https': 'https://pbs.twimg.com/profile_images/1008695387975180288/zHoTPbEE_normal.jpg',\n",
    "  'profile_link_color': '9C27B0',\n",
    "  'profile_sidebar_border_color': '000000',\n",
    "  'profile_sidebar_fill_color': 'DDEEF6',\n",
    "  'profile_text_color': '333333',\n",
    "  'profile_use_background_image': True,\n",
    "  'protected': False,\n",
    "  'screen_name': 's_udin73',\n",
    "  'statuses_count': 8022,\n",
    "  'time_zone': None,\n",
    "  'translator_type': 'none',\n",
    "  'url': None,\n",
    "  'utc_offset': None,\n",
    "  'verified': False}}"
   ]
  },
  {
   "cell_type": "code",
   "execution_count": 79,
   "metadata": {},
   "outputs": [],
   "source": [
    "# # lalu kita index/simpan ulang datanya, misal sekarang hanya menyimpan full_text, created_at, dan screen_name saja\n",
    "# for tweet in tqdm(Tweets):\n",
    "#     doc = {'created_at':tweet['created_at'], 'screen_name':tweet['user']['screen_name'], 'full_text':tweet['full_text']}\n",
    "#     conEs.index(index=idx,doc_type=docType,body=doc)\n",
    "# # Setelah selesai, coba cek hasilnya di Plugin Head: Browser dan index metadata"
   ]
  },
  {
   "cell_type": "code",
   "execution_count": 130,
   "metadata": {},
   "outputs": [
    {
     "data": {
      "text/plain": [
       "[{u'_id': u'AWTU-A3z4W0kSSaFYMMs',\n",
       "  u'_index': u'twitter',\n",
       "  u'_score': 6.228952,\n",
       "  u'_type': u'tweets'},\n",
       " {u'_id': u'AWTU-F6U4W0kSSaFYNBl',\n",
       "  u'_index': u'twitter',\n",
       "  u'_score': 6.0585947,\n",
       "  u'_type': u'tweets'},\n",
       " {u'_id': u'AWTU975S4W0kSSaFYLYt',\n",
       "  u'_index': u'twitter',\n",
       "  u'_score': 5.983316,\n",
       "  u'_type': u'tweets'},\n",
       " {u'_id': u'AWTU9_SO4W0kSSaFYL8C',\n",
       "  u'_index': u'twitter',\n",
       "  u'_score': 5.983316,\n",
       "  u'_type': u'tweets'},\n",
       " {u'_id': u'AWTU-Hy64W0kSSaFYNVg',\n",
       "  u'_index': u'twitter',\n",
       "  u'_score': 5.983316,\n",
       "  u'_type': u'tweets'},\n",
       " {u'_id': u'AWTU99J44W0kSSaFYLl_',\n",
       "  u'_index': u'twitter',\n",
       "  u'_score': 5.872378,\n",
       "  u'_type': u'tweets'},\n",
       " {u'_id': u'AWTU9_b24W0kSSaFYL9p',\n",
       "  u'_index': u'twitter',\n",
       "  u'_score': 5.872378,\n",
       "  u'_type': u'tweets'},\n",
       " {u'_id': u'AWTU-HZC4W0kSSaFYNRN',\n",
       "  u'_index': u'twitter',\n",
       "  u'_score': 5.4440975,\n",
       "  u'_type': u'tweets'},\n",
       " {u'_id': u'AWTU-HM04W0kSSaFYNPK',\n",
       "  u'_index': u'twitter',\n",
       "  u'_score': 5.2313385,\n",
       "  u'_type': u'tweets'},\n",
       " {u'_id': u'AWTU99XB4W0kSSaFYLoJ',\n",
       "  u'_index': u'twitter',\n",
       "  u'_score': 5.1360555,\n",
       "  u'_type': u'tweets'}]"
      ]
     },
     "execution_count": 130,
     "metadata": {},
     "output_type": "execute_result"
    }
   ],
   "source": [
    "# query with limit result; range date; without source data\n",
    "qry = 'sendiri'\n",
    "nResults = 10 # number of result\n",
    "withresultdata = False # get result data with/without source data\n",
    "dateStart, dateEnd = \"16/07/2018\", \"26/07/2018\" # \"format\": \"dd/MM/yyyy||yyyy\"\n",
    "dateField = 'created_at'\n",
    "Q = {\"bool\":{\"must\":{'multi_match':{'query':qry,\"type\":\"cross_fields\",'fields':['full_text']}},\"filter\": {\"range\":{dateField:{\"gte\":dateStart,\"lte\":dateEnd,\"format\":\"dd/MM/yyyy||yyyy\"}}}}}\n",
    "# hsl = conEs.search(index=index_name, body={\"query\": {\"match\": {'full_text':qry}}})\n",
    "hsl = conEs.search(index=index_name, size = nResults, _source= withresultdata ,doc_type=docType,body={\"query\":Q})\n",
    "hsl['hits']['hits']\n",
    "# hsl"
   ]
  },
  {
   "cell_type": "code",
   "execution_count": 133,
   "metadata": {},
   "outputs": [
    {
     "name": "stdout",
     "output_type": "stream",
     "text": [
      "AWTU99XB4W0kSSaFYLoJ\n"
     ]
    }
   ],
   "source": [
    "# \"Term Vector\" information?\n",
    "# Get \"_id\" for query \n",
    "dID = hsl['hits']['hits'][9]['_id']\n",
    "print(dID)"
   ]
  },
  {
   "cell_type": "code",
   "execution_count": 138,
   "metadata": {},
   "outputs": [
    {
     "data": {
      "text/plain": [
       "{u'_id': u'AWTU99XB4W0kSSaFYLoJ',\n",
       " u'_index': u'twitter',\n",
       " u'_type': u'tweets',\n",
       " u'_version': 1,\n",
       " u'found': True,\n",
       " u'term_vectors': {u'full_text': {u'field_statistics': {u'doc_count': 4995,\n",
       "    u'sum_doc_freq': 83224,\n",
       "    u'sum_ttf': 90711},\n",
       "   u'terms': {u'aku': {u'doc_freq': 4805, u'term_freq': 1, u'ttf': 6620},\n",
       "    u'astrilystd': {u'doc_freq': 1, u'term_freq': 1, u'ttf': 1},\n",
       "    u'depan': {u'doc_freq': 45, u'term_freq': 1, u'ttf': 46},\n",
       "    u'https': {u'doc_freq': 772, u'term_freq': 1, u'ttf': 775},\n",
       "    u'nwv6991phy': {u'doc_freq': 1, u'term_freq': 1, u'ttf': 1},\n",
       "    u'sendiri': {u'doc_freq': 105, u'term_freq': 1, u'ttf': 110},\n",
       "    u't.co': {u'doc_freq': 748, u'term_freq': 1, u'ttf': 751}}}},\n",
       " u'took': 0}"
      ]
     },
     "execution_count": 138,
     "metadata": {},
     "output_type": "execute_result"
    }
   ],
   "source": [
    "# Get Term Vectors\n",
    "termVec=conEs.termvectors(index=idx,doc_type=docType,id=dID,fields = ['full_text'],term_statistics=True)\n",
    "termVec\n",
    "# what is Term Vectors?\n",
    "# https://www.elastic.co/guide/en/elasticsearch/reference/current/docs-termvectors.html\n",
    "# Kita juga bisa menggunakan \"term position\"\n",
    "# Btw, good News TermVectors supported di ElasticSearch dengan license Full opensource Apache 2 :)\n",
    "# \"Statistics\" dari term vectors ini secara realtime diupdate dan dapat digunakan untuk menghitung\n",
    "# VSM/term Weight di TextMining seperti yang dibahas kemarin"
   ]
  },
  {
   "cell_type": "code",
   "execution_count": null,
   "metadata": {},
   "outputs": [],
   "source": []
  }
 ],
 "metadata": {
  "kernelspec": {
   "display_name": "Python 2",
   "language": "python",
   "name": "python2"
  },
  "language_info": {
   "codemirror_mode": {
    "name": "ipython",
    "version": 3
   },
   "file_extension": ".py",
   "mimetype": "text/x-python",
   "name": "python",
   "nbconvert_exporter": "python",
   "pygments_lexer": "ipython3",
   "version": "3.5.2"
  }
 },
 "nbformat": 4,
 "nbformat_minor": 1
}
